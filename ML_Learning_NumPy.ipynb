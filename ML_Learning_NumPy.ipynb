{
  "nbformat": 4,
  "nbformat_minor": 0,
  "metadata": {
    "colab": {
      "provenance": [],
      "authorship_tag": "ABX9TyMNBq1rajYJX7OHXk6JhK4e",
      "include_colab_link": true
    },
    "kernelspec": {
      "name": "python3",
      "display_name": "Python 3"
    },
    "language_info": {
      "name": "python"
    }
  },
  "cells": [
    {
      "cell_type": "markdown",
      "metadata": {
        "id": "view-in-github",
        "colab_type": "text"
      },
      "source": [
        "<a href=\"https://colab.research.google.com/github/Imaspson/ML-Learning/blob/main/ML_Learning_NumPy.ipynb\" target=\"_parent\"><img src=\"https://colab.research.google.com/assets/colab-badge.svg\" alt=\"Open In Colab\"/></a>"
      ]
    },
    {
      "cell_type": "code",
      "execution_count": 1,
      "metadata": {
        "colab": {
          "base_uri": "https://localhost:8080/"
        },
        "id": "N5rt3umfmU8w",
        "outputId": "52ce9c17-0fef-4eb0-83b1-485dee20e9c4"
      },
      "outputs": [
        {
          "output_type": "stream",
          "name": "stdout",
          "text": [
            "array([-1.,  2.,  5.], dtype=float32)\n"
          ]
        }
      ],
      "source": [
        "import numpy as np\n",
        "\n",
        "arr = np.array([-1, 2, 5], dtype=np.float32)\n",
        "\n",
        "print(repr(arr))"
      ]
    },
    {
      "cell_type": "markdown",
      "source": [
        "# NumPy Arrays"
      ],
      "metadata": {
        "id": "1Dcw7QQsHCeS"
      }
    },
    {
      "cell_type": "code",
      "source": [
        "import numpy as np\n",
        "\n",
        "arr = np.array([[0, 1, 2], [3, 4, 5]],\n",
        "               dtype=np.float32)\n",
        "\n",
        "print(repr(arr))"
      ],
      "metadata": {
        "colab": {
          "base_uri": "https://localhost:8080/"
        },
        "id": "47LBdpJHG3yy",
        "outputId": "2a31bb1e-4446-4597-f5bc-a2b1b0f08c83"
      },
      "execution_count": 2,
      "outputs": [
        {
          "output_type": "stream",
          "name": "stdout",
          "text": [
            "array([[0., 1., 2.],\n",
            "       [3., 4., 5.]], dtype=float32)\n"
          ]
        }
      ]
    },
    {
      "cell_type": "markdown",
      "source": [
        "# Upcasting - if int and float are in an array, all elements are converted to float etc."
      ],
      "metadata": {
        "id": "1fStxJmjXS_j"
      }
    },
    {
      "cell_type": "code",
      "source": [
        "arr = np.array([0, 0.1, 2])\n",
        "print(repr(arr))"
      ],
      "metadata": {
        "colab": {
          "base_uri": "https://localhost:8080/"
        },
        "id": "Q-JicbHCXgud",
        "outputId": "b7da3823-6b8d-4ca4-bccc-19eac57dfe01"
      },
      "execution_count": 3,
      "outputs": [
        {
          "output_type": "stream",
          "name": "stdout",
          "text": [
            "array([0. , 0.1, 2. ])\n"
          ]
        }
      ]
    },
    {
      "cell_type": "markdown",
      "source": [
        "# Copying"
      ],
      "metadata": {
        "id": "GGwnRxtlXlRy"
      }
    },
    {
      "cell_type": "code",
      "source": [
        "a = np.array([0, 1])\n",
        "b = np.array([9, 8])\n",
        "c = a\n",
        "\n",
        "print(f\"Array a: {repr(a)}\")\n",
        "c[0] = 5\n",
        "print(f\"Array a: {repr(a)}\")\n",
        "\n",
        "d = b.copy()\n",
        "d[0] = 6\n",
        "print(f\"Array b: {repr(b)}\")"
      ],
      "metadata": {
        "colab": {
          "base_uri": "https://localhost:8080/"
        },
        "id": "fjKhq1aSX5iC",
        "outputId": "345761d5-1c88-458d-ec7e-3fc77f33f8e6"
      },
      "execution_count": 4,
      "outputs": [
        {
          "output_type": "stream",
          "name": "stdout",
          "text": [
            "Array a: array([0, 1])\n",
            "Array a: array([5, 1])\n",
            "Array b: array([9, 8])\n"
          ]
        }
      ]
    },
    {
      "cell_type": "markdown",
      "source": [
        "# Casting"
      ],
      "metadata": {
        "id": "g_DcWuU2X0Hy"
      }
    },
    {
      "cell_type": "code",
      "source": [
        "arr = np.array([0, 1, 2])\n",
        "print(arr.dtype)\n",
        "arr = arr.astype(np.float32)\n",
        "print(arr.dtype)"
      ],
      "metadata": {
        "colab": {
          "base_uri": "https://localhost:8080/"
        },
        "id": "lrUt0y4NYedZ",
        "outputId": "7d946167-d9df-41a1-e149-0521cac3c672"
      },
      "execution_count": 5,
      "outputs": [
        {
          "output_type": "stream",
          "name": "stdout",
          "text": [
            "int64\n",
            "float32\n"
          ]
        }
      ]
    },
    {
      "cell_type": "markdown",
      "source": [
        "# NaN"
      ],
      "metadata": {
        "id": "cudfyj0KYmno"
      }
    },
    {
      "cell_type": "code",
      "source": [
        "arr = np.array([np.nan, 1, 2])\n",
        "print(repr(arr))\n",
        "\n",
        "arr = np.array([np.nan, 'abc'])\n",
        "print(repr(arr))\n",
        "\n",
        "np.array([np.nan, 1, 2], dtype=np.float32)"
      ],
      "metadata": {
        "colab": {
          "base_uri": "https://localhost:8080/"
        },
        "id": "Rw_QPvPXYrw3",
        "outputId": "94a146dd-d9d7-4fae-8542-6a15311021df"
      },
      "execution_count": 6,
      "outputs": [
        {
          "output_type": "stream",
          "name": "stdout",
          "text": [
            "array([nan,  1.,  2.])\n",
            "array(['nan', 'abc'], dtype='<U32')\n"
          ]
        },
        {
          "output_type": "execute_result",
          "data": {
            "text/plain": [
              "array([nan,  1.,  2.], dtype=float32)"
            ]
          },
          "metadata": {},
          "execution_count": 6
        }
      ]
    },
    {
      "cell_type": "markdown",
      "source": [
        "# Infinity"
      ],
      "metadata": {
        "id": "Qi3HL-b9Y1mF"
      }
    },
    {
      "cell_type": "code",
      "source": [
        "print(np.inf > 100000000)\n",
        "\n",
        "arr = np.array([np.inf, 5])\n",
        "print(repr(arr))\n",
        "\n",
        "arr = np.array([-np.inf, 1])\n",
        "print(repr(arr))\n",
        "\n",
        "np.array([np.inf, 3], dtype=np.float32)"
      ],
      "metadata": {
        "colab": {
          "base_uri": "https://localhost:8080/"
        },
        "id": "xOZZZBgAZKWq",
        "outputId": "99315838-b0d6-43e1-be82-7f9c5e1c9370"
      },
      "execution_count": 7,
      "outputs": [
        {
          "output_type": "stream",
          "name": "stdout",
          "text": [
            "True\n",
            "array([inf,  5.])\n",
            "array([-inf,   1.])\n"
          ]
        },
        {
          "output_type": "execute_result",
          "data": {
            "text/plain": [
              "array([inf,  3.], dtype=float32)"
            ]
          },
          "metadata": {},
          "execution_count": 7
        }
      ]
    },
    {
      "cell_type": "code",
      "source": [
        "arr = np.array([np.nan, 2, 3, 4, 5],\n",
        "               dtype=np.float32)\n",
        "print(repr(arr))\n",
        "\n",
        "arr2 = arr.copy()\n",
        "arr2[0] = 10\n",
        "print(repr(arr2))"
      ],
      "metadata": {
        "colab": {
          "base_uri": "https://localhost:8080/"
        },
        "id": "PpV1cJJ4bF8Z",
        "outputId": "1b927887-8c09-44fb-874d-3ec57ab0580b"
      },
      "execution_count": 8,
      "outputs": [
        {
          "output_type": "stream",
          "name": "stdout",
          "text": [
            "array([nan,  2.,  3.,  4.,  5.], dtype=float32)\n",
            "array([10.,  2.,  3.,  4.,  5.], dtype=float32)\n"
          ]
        }
      ]
    },
    {
      "cell_type": "markdown",
      "source": [
        "# Ranged data"
      ],
      "metadata": {
        "id": "Ywq5xKjZbY5C"
      }
    },
    {
      "cell_type": "code",
      "source": [
        "arr = np.arange(5)\n",
        "print(repr(arr))\n",
        "\n",
        "arr = np.arange(5.1)\n",
        "print(repr(arr))\n",
        "\n",
        "arr = np.arange(-1, 4)\n",
        "print(repr(arr))\n",
        "\n",
        "arr = np.arange(-1.5, 4, 2)\n",
        "print(repr(arr))"
      ],
      "metadata": {
        "colab": {
          "base_uri": "https://localhost:8080/"
        },
        "id": "8O18Ij7o8oP-",
        "outputId": "5b6e02ba-47ac-4213-d2ca-9a1717453c57"
      },
      "execution_count": 12,
      "outputs": [
        {
          "output_type": "stream",
          "name": "stdout",
          "text": [
            "array([0, 1, 2, 3, 4])\n",
            "array([0., 1., 2., 3., 4., 5.])\n",
            "array([-1,  0,  1,  2,  3])\n",
            "array([-1.5,  0.5,  2.5])\n"
          ]
        }
      ]
    },
    {
      "cell_type": "code",
      "source": [
        "arr = np.linspace(5, 11, num=4)\n",
        "print(repr(arr))\n",
        "\n",
        "arr = np.linspace(5, 11, num=4, endpoint=False)\n",
        "print(repr(arr))\n",
        "\n",
        "arr = np.linspace(5, 11, num=4, dtype=np.int32)\n",
        "print(repr(arr))"
      ],
      "metadata": {
        "colab": {
          "base_uri": "https://localhost:8080/"
        },
        "id": "aBmPmdo-8q8f",
        "outputId": "058e8d23-34d0-4828-be07-30935743c560"
      },
      "execution_count": 15,
      "outputs": [
        {
          "output_type": "stream",
          "name": "stdout",
          "text": [
            "array([ 5.,  7.,  9., 11.])\n",
            "array([5. , 6.5, 8. , 9.5])\n",
            "array([ 5,  7,  9, 11], dtype=int32)\n"
          ]
        }
      ]
    },
    {
      "cell_type": "markdown",
      "source": [
        "# Reshaping data"
      ],
      "metadata": {
        "id": "puLGZNyP9a71"
      }
    },
    {
      "cell_type": "code",
      "source": [
        "arr = np.arange(8)\n",
        "\n",
        "reshaped_arr = np.reshape(arr, (2, 4))\n",
        "print(repr(reshaped_arr))\n",
        "print(f\"New shape: {reshaped_arr.shape}\")"
      ],
      "metadata": {
        "colab": {
          "base_uri": "https://localhost:8080/"
        },
        "id": "kG3DzgXW99hx",
        "outputId": "1485c4b1-ec10-49d5-c1a2-8784ed6f321d"
      },
      "execution_count": 16,
      "outputs": [
        {
          "output_type": "stream",
          "name": "stdout",
          "text": [
            "array([[0, 1, 2, 3],\n",
            "       [4, 5, 6, 7]])\n",
            "New shape: (2, 4)\n"
          ]
        }
      ]
    },
    {
      "cell_type": "markdown",
      "source": [
        "# Transposing"
      ],
      "metadata": {
        "id": "7oZ0WkmR-5NO"
      }
    },
    {
      "cell_type": "code",
      "source": [
        "arr = np.arange(8)\n",
        "arr = np.reshape(arr, (4, 2))\n",
        "transposed = np.transpose(arr)\n",
        "print(repr(arr))\n",
        "print(f\"arr shape: {arr.shape}\")\n",
        "print(repr(transposed))\n",
        "print(f\"tarnsposed shape: {transposed.shape}\")"
      ],
      "metadata": {
        "colab": {
          "base_uri": "https://localhost:8080/"
        },
        "id": "kAlYDQyY_Epi",
        "outputId": "15e72e79-1774-4620-d424-dc0cc22282c9"
      },
      "execution_count": 17,
      "outputs": [
        {
          "output_type": "stream",
          "name": "stdout",
          "text": [
            "array([[0, 1],\n",
            "       [2, 3],\n",
            "       [4, 5],\n",
            "       [6, 7]])\n",
            "arr shape: (4, 2)\n",
            "array([[0, 2, 4, 6],\n",
            "       [1, 3, 5, 7]])\n",
            "tarnsposed shape: (2, 4)\n"
          ]
        }
      ]
    },
    {
      "cell_type": "code",
      "source": [
        "arr = np.arange(24)\n",
        "arr = np.reshape(arr, (3, 4, 2))\n",
        "transposed = np.transpose(arr, axes=(1, 2, 0))\n",
        "\n",
        "print(f\"arr shape: {arr.shape}\")\n",
        "print(f\"transposed shape: {transposed.shape}\")"
      ],
      "metadata": {
        "colab": {
          "base_uri": "https://localhost:8080/"
        },
        "id": "3wBMDi0pBAr9",
        "outputId": "bc6a8e36-2f4b-416e-c16e-31132b6f0ed3"
      },
      "execution_count": 18,
      "outputs": [
        {
          "output_type": "stream",
          "name": "stdout",
          "text": [
            "arr shape: (3, 4, 2)\n",
            "transposed shape: (4, 2, 3)\n"
          ]
        }
      ]
    },
    {
      "cell_type": "markdown",
      "source": [
        "# Zeros and Ones"
      ],
      "metadata": {
        "id": "R8Mmi2XKEGGo"
      }
    },
    {
      "cell_type": "code",
      "source": [
        "arr = np.zeros(4)\n",
        "print(repr(arr))\n",
        "\n",
        "arr = np.ones((2, 3))\n",
        "print(repr(arr))\n",
        "\n",
        "arr = np.ones((2, 3), dtype=np.int32)\n",
        "print(repr(arr))"
      ],
      "metadata": {
        "colab": {
          "base_uri": "https://localhost:8080/"
        },
        "id": "xwRhGG4lEMIp",
        "outputId": "3d38cbf9-33b7-4667-ac87-77e3781b00a3"
      },
      "execution_count": 21,
      "outputs": [
        {
          "output_type": "stream",
          "name": "stdout",
          "text": [
            "array([0., 0., 0., 0.])\n",
            "array([[1., 1., 1.],\n",
            "       [1., 1., 1.]])\n",
            "array([[1, 1, 1],\n",
            "       [1, 1, 1]], dtype=int32)\n"
          ]
        }
      ]
    },
    {
      "cell_type": "code",
      "source": [
        "arr = np.array([[1, 2], [3, 4]])\n",
        "print(repr(np.zeros_like(arr)))"
      ],
      "metadata": {
        "colab": {
          "base_uri": "https://localhost:8080/"
        },
        "id": "3LfXKcRwQIvP",
        "outputId": "62b13ae7-b0ad-463e-e508-225072ea395a"
      },
      "execution_count": 22,
      "outputs": [
        {
          "output_type": "stream",
          "name": "stdout",
          "text": [
            "array([[0, 0],\n",
            "       [0, 0]])\n"
          ]
        }
      ]
    },
    {
      "cell_type": "code",
      "source": [],
      "metadata": {
        "id": "q1IbVDcaRopf"
      },
      "execution_count": null,
      "outputs": []
    }
  ]
}